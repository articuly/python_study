{
 "cells": [
  {
   "cell_type": "code",
   "execution_count": 12,
   "metadata": {
    "collapsed": true,
    "pycharm": {
     "is_executing": false
    }
   },
   "outputs": [
    {
     "data": {
      "text/plain": "        COUNTRY      POP      AREA       GDP       CONT     IND_DAY\nCHN       China  1398.72   9596.96  12234.78       Asia   1949/10/1\nIND       India  1351.16   3287.26   2575.67       Asia   1947/8/15\nUSA          US   329.74   9833.52  19485.39  N.America  1776-07-04\nIDN   Indonesia   268.07   1910.93   1015.54       Asia   1945/8/17\nBRA      Brazil   210.32   8515.77   2055.51  S.America  1822-09-07\nPAK    Pakistan   205.71    881.91    302.14       Asia   1947/8/14\nNGA     Nigeria   200.96    923.77    375.77     Africa   1960/10/1\nBGD  Bangladesh   167.09    147.57    245.63       Asia   1971/3/26\nRUS      Russia   146.79  17098.25   1530.75        NaN   1992/6/12\nMEX      Mexico   126.58   1964.38   1158.23  N.America  1810-09-16\nJPN       Japan   126.22    377.97   4872.42       Asia         NaN\nDEU     Germany    83.02    357.11   3693.20     Europe         NaN\nFRA      France    67.02    640.68   2582.49     Europe  1789-07-14\nGBR          UK    66.44    242.50   2631.23     Europe         NaN\nITA       Italy    60.36    301.34   1943.84     Europe         NaN\nARG   Argentina    44.94   2780.40    637.49  S.America  1816-07-09\nDZA     Algeria    43.38   2381.74    167.56     Africa    1962/7/5\nCAN      Canada    37.59   9984.67   1647.12  N.America  1867-07-01\nAUS   Australia    25.47   7692.02   1408.68    Oceania         NaN\nKAZ  Kazakhstan    18.53   2724.90    159.41       Asia  1991/12/16",
      "text/html": "<div>\n<style scoped>\n    .dataframe tbody tr th:only-of-type {\n        vertical-align: middle;\n    }\n\n    .dataframe tbody tr th {\n        vertical-align: top;\n    }\n\n    .dataframe thead th {\n        text-align: right;\n    }\n</style>\n<table border=\"1\" class=\"dataframe\">\n  <thead>\n    <tr style=\"text-align: right;\">\n      <th></th>\n      <th>COUNTRY</th>\n      <th>POP</th>\n      <th>AREA</th>\n      <th>GDP</th>\n      <th>CONT</th>\n      <th>IND_DAY</th>\n    </tr>\n  </thead>\n  <tbody>\n    <tr>\n      <th>CHN</th>\n      <td>China</td>\n      <td>1398.72</td>\n      <td>9596.96</td>\n      <td>12234.78</td>\n      <td>Asia</td>\n      <td>1949/10/1</td>\n    </tr>\n    <tr>\n      <th>IND</th>\n      <td>India</td>\n      <td>1351.16</td>\n      <td>3287.26</td>\n      <td>2575.67</td>\n      <td>Asia</td>\n      <td>1947/8/15</td>\n    </tr>\n    <tr>\n      <th>USA</th>\n      <td>US</td>\n      <td>329.74</td>\n      <td>9833.52</td>\n      <td>19485.39</td>\n      <td>N.America</td>\n      <td>1776-07-04</td>\n    </tr>\n    <tr>\n      <th>IDN</th>\n      <td>Indonesia</td>\n      <td>268.07</td>\n      <td>1910.93</td>\n      <td>1015.54</td>\n      <td>Asia</td>\n      <td>1945/8/17</td>\n    </tr>\n    <tr>\n      <th>BRA</th>\n      <td>Brazil</td>\n      <td>210.32</td>\n      <td>8515.77</td>\n      <td>2055.51</td>\n      <td>S.America</td>\n      <td>1822-09-07</td>\n    </tr>\n    <tr>\n      <th>PAK</th>\n      <td>Pakistan</td>\n      <td>205.71</td>\n      <td>881.91</td>\n      <td>302.14</td>\n      <td>Asia</td>\n      <td>1947/8/14</td>\n    </tr>\n    <tr>\n      <th>NGA</th>\n      <td>Nigeria</td>\n      <td>200.96</td>\n      <td>923.77</td>\n      <td>375.77</td>\n      <td>Africa</td>\n      <td>1960/10/1</td>\n    </tr>\n    <tr>\n      <th>BGD</th>\n      <td>Bangladesh</td>\n      <td>167.09</td>\n      <td>147.57</td>\n      <td>245.63</td>\n      <td>Asia</td>\n      <td>1971/3/26</td>\n    </tr>\n    <tr>\n      <th>RUS</th>\n      <td>Russia</td>\n      <td>146.79</td>\n      <td>17098.25</td>\n      <td>1530.75</td>\n      <td>NaN</td>\n      <td>1992/6/12</td>\n    </tr>\n    <tr>\n      <th>MEX</th>\n      <td>Mexico</td>\n      <td>126.58</td>\n      <td>1964.38</td>\n      <td>1158.23</td>\n      <td>N.America</td>\n      <td>1810-09-16</td>\n    </tr>\n    <tr>\n      <th>JPN</th>\n      <td>Japan</td>\n      <td>126.22</td>\n      <td>377.97</td>\n      <td>4872.42</td>\n      <td>Asia</td>\n      <td>NaN</td>\n    </tr>\n    <tr>\n      <th>DEU</th>\n      <td>Germany</td>\n      <td>83.02</td>\n      <td>357.11</td>\n      <td>3693.20</td>\n      <td>Europe</td>\n      <td>NaN</td>\n    </tr>\n    <tr>\n      <th>FRA</th>\n      <td>France</td>\n      <td>67.02</td>\n      <td>640.68</td>\n      <td>2582.49</td>\n      <td>Europe</td>\n      <td>1789-07-14</td>\n    </tr>\n    <tr>\n      <th>GBR</th>\n      <td>UK</td>\n      <td>66.44</td>\n      <td>242.50</td>\n      <td>2631.23</td>\n      <td>Europe</td>\n      <td>NaN</td>\n    </tr>\n    <tr>\n      <th>ITA</th>\n      <td>Italy</td>\n      <td>60.36</td>\n      <td>301.34</td>\n      <td>1943.84</td>\n      <td>Europe</td>\n      <td>NaN</td>\n    </tr>\n    <tr>\n      <th>ARG</th>\n      <td>Argentina</td>\n      <td>44.94</td>\n      <td>2780.40</td>\n      <td>637.49</td>\n      <td>S.America</td>\n      <td>1816-07-09</td>\n    </tr>\n    <tr>\n      <th>DZA</th>\n      <td>Algeria</td>\n      <td>43.38</td>\n      <td>2381.74</td>\n      <td>167.56</td>\n      <td>Africa</td>\n      <td>1962/7/5</td>\n    </tr>\n    <tr>\n      <th>CAN</th>\n      <td>Canada</td>\n      <td>37.59</td>\n      <td>9984.67</td>\n      <td>1647.12</td>\n      <td>N.America</td>\n      <td>1867-07-01</td>\n    </tr>\n    <tr>\n      <th>AUS</th>\n      <td>Australia</td>\n      <td>25.47</td>\n      <td>7692.02</td>\n      <td>1408.68</td>\n      <td>Oceania</td>\n      <td>NaN</td>\n    </tr>\n    <tr>\n      <th>KAZ</th>\n      <td>Kazakhstan</td>\n      <td>18.53</td>\n      <td>2724.90</td>\n      <td>159.41</td>\n      <td>Asia</td>\n      <td>1991/12/16</td>\n    </tr>\n  </tbody>\n</table>\n</div>"
     },
     "metadata": {},
     "output_type": "execute_result",
     "execution_count": 12
    }
   ],
   "source": [
    "import pandas as pd\n",
    "\n",
    "df=pd.read_csv('.\\\\data_set\\\\country.csv',index_col=0)\n",
    "df"
   ]
  },
  {
   "cell_type": "code",
   "execution_count": 13,
   "outputs": [],
   "source": [
    "df.to_excel('.\\\\data_set\\\\country.xlsx')\n",
    "df.to_json('.\\\\data_set\\\\country.json')"
   ],
   "metadata": {
    "collapsed": false,
    "pycharm": {
     "name": "#%%\n",
     "is_executing": false
    }
   }
  },
  {
   "cell_type": "code",
   "execution_count": 14,
   "outputs": [
    {
     "data": {
      "text/plain": "146.79"
     },
     "metadata": {},
     "output_type": "execute_result",
     "execution_count": 14
    }
   ],
   "source": [
    "df.dtypes\n",
    "df.loc['RUS','POP']"
   ],
   "metadata": {
    "collapsed": false,
    "pycharm": {
     "name": "#%%\n",
     "is_executing": false
    }
   }
  },
  {
   "cell_type": "code",
   "execution_count": 24,
   "outputs": [
    {
     "data": {
      "text/plain": "CHN   1949-10-01\nIND   1947-08-15\nUSA   1776-07-04\nIDN   1945-08-17\nBRA   1822-09-07\nPAK   1947-08-14\nNGA   1960-10-01\nBGD   1971-03-26\nRUS   1992-06-12\nMEX   1810-09-16\nJPN          NaT\nDEU          NaT\nFRA   1789-07-14\nGBR          NaT\nITA          NaT\nARG   1816-07-09\nDZA   1962-07-05\nCAN   1867-07-01\nAUS          NaT\nKAZ   1991-12-16\nName: IND_DAY, dtype: datetime64[ns]"
     },
     "metadata": {},
     "output_type": "execute_result",
     "execution_count": 24
    }
   ],
   "source": [
    "dtypes={'POP':'float32','AREA':'float32','GDP':'float32'}\n",
    "df=pd.read_csv('.\\\\data_set\\\\country.csv',index_col=0,dtype=dtypes,parse_dates=['IND_DAY'])\n",
    "df.dtypes\n",
    "df['IND_DAY']"
   ],
   "metadata": {
    "collapsed": false,
    "pycharm": {
     "name": "#%%\n",
     "is_executing": false
    }
   }
  },
  {
   "cell_type": "code",
   "execution_count": 16,
   "outputs": [],
   "source": [
    "df.to_csv('.\\\\data_set\\\\country1.csv', date_format='%Y/%m/%d')"
   ],
   "metadata": {
    "collapsed": false,
    "pycharm": {
     "name": "#%%\n",
     "is_executing": false
    }
   }
  },
  {
   "cell_type": "code",
   "execution_count": 17,
   "outputs": [
    {
     "name": "stdout",
     "text": [
      "CHN;China;1398.72;9596.96;12234.78;Asia;1949-10-01\r\n",
      "IND;India;1351.16;3287.26;2575.67;Asia;1947-08-15\r\n",
      "USA;US;329.74;9833.52;19485.39;N.America;1776-07-04\r\n",
      "IDN;Indonesia;268.07;1910.93;1015.54;Asia;1945-08-17\r\n",
      "BRA;Brazil;210.32;8515.77;2055.51;S.America;1822-09-07\r\n",
      "PAK;Pakistan;205.71;881.91;302.14;Asia;1947-08-14\r\n",
      "NGA;Nigeria;200.96;923.77;375.77;Africa;1960-10-01\r\n",
      "BGD;Bangladesh;167.09;147.57;245.63;Asia;1971-03-26\r\n",
      "RUS;Russia;146.79;17098.25;1530.75;;1992-06-12\r\n",
      "MEX;Mexico;126.58;1964.38;1158.23;N.America;1810-09-16\r\n",
      "JPN;Japan;126.22;377.97;4872.42;Asia;\r\n",
      "DEU;Germany;83.02;357.11;3693.2;Europe;\r\n",
      "FRA;France;67.02;640.68;2582.49;Europe;1789-07-14\r\n",
      "GBR;UK;66.44;242.5;2631.23;Europe;\r\n",
      "ITA;Italy;60.36;301.34;1943.84;Europe;\r\n",
      "ARG;Argentina;44.94;2780.4;637.49;S.America;1816-07-09\r\n",
      "DZA;Algeria;43.38;2381.74;167.56;Africa;1962-07-05\r\n",
      "CAN;Canada;37.59;9984.67;1647.12;N.America;1867-07-01\r\n",
      "AUS;Australia;25.47;7692.02;1408.68;Oceania;\r\n",
      "KAZ;Kazakhstan;18.53;2724.9;159.41;Asia;1991-12-16\r\n",
      "\n"
     ],
     "output_type": "stream"
    }
   ],
   "source": [
    "s=df.to_csv(sep=';',header=False)\n",
    "print(s)"
   ],
   "metadata": {
    "collapsed": false,
    "pycharm": {
     "name": "#%%\n",
     "is_executing": false
    }
   }
  },
  {
   "cell_type": "code",
   "execution_count": 18,
   "outputs": [],
   "source": [
    "df.to_json('.\\\\data_set\\\\country-index.json', orient='index')\n",
    "df.to_json('.\\\\data_set\\\\country-records.json', orient='records')\n",
    "df.to_json('.\\\\data_set\\\\country-split.json', orient='split')"
   ],
   "metadata": {
    "collapsed": false,
    "pycharm": {
     "name": "#%%\n",
     "is_executing": false
    }
   }
  },
  {
   "cell_type": "code",
   "execution_count": 19,
   "outputs": [],
   "source": [
    "df.to_excel('.\\\\data_set\\\\country-shifted.xlsx', sheet_name='COUNTRIES',startrow=2, startcol=4)"
   ],
   "metadata": {
    "collapsed": false,
    "pycharm": {
     "name": "#%%\n",
     "is_executing": false
    }
   }
  },
  {
   "cell_type": "code",
   "execution_count": 23,
   "outputs": [
    {
     "data": {
      "text/plain": "       COUNTRY      AREA\n0        China   9596.96\n1        India   3287.26\n2           US   9833.52\n3    Indonesia   1910.93\n4       Brazil   8515.77\n5     Pakistan    881.91\n6      Nigeria    923.77\n7   Bangladesh    147.57\n8       Russia  17098.25\n9       Mexico   1964.38\n10       Japan    377.97\n11     Germany    357.11\n12      France    640.68\n13          UK    242.50\n14       Italy    301.34\n15   Argentina   2780.40\n16     Algeria   2381.74\n17      Canada   9984.67\n18   Australia   7692.02\n19  Kazakhstan   2724.90",
      "text/html": "<div>\n<style scoped>\n    .dataframe tbody tr th:only-of-type {\n        vertical-align: middle;\n    }\n\n    .dataframe tbody tr th {\n        vertical-align: top;\n    }\n\n    .dataframe thead th {\n        text-align: right;\n    }\n</style>\n<table border=\"1\" class=\"dataframe\">\n  <thead>\n    <tr style=\"text-align: right;\">\n      <th></th>\n      <th>COUNTRY</th>\n      <th>AREA</th>\n    </tr>\n  </thead>\n  <tbody>\n    <tr>\n      <th>0</th>\n      <td>China</td>\n      <td>9596.96</td>\n    </tr>\n    <tr>\n      <th>1</th>\n      <td>India</td>\n      <td>3287.26</td>\n    </tr>\n    <tr>\n      <th>2</th>\n      <td>US</td>\n      <td>9833.52</td>\n    </tr>\n    <tr>\n      <th>3</th>\n      <td>Indonesia</td>\n      <td>1910.93</td>\n    </tr>\n    <tr>\n      <th>4</th>\n      <td>Brazil</td>\n      <td>8515.77</td>\n    </tr>\n    <tr>\n      <th>5</th>\n      <td>Pakistan</td>\n      <td>881.91</td>\n    </tr>\n    <tr>\n      <th>6</th>\n      <td>Nigeria</td>\n      <td>923.77</td>\n    </tr>\n    <tr>\n      <th>7</th>\n      <td>Bangladesh</td>\n      <td>147.57</td>\n    </tr>\n    <tr>\n      <th>8</th>\n      <td>Russia</td>\n      <td>17098.25</td>\n    </tr>\n    <tr>\n      <th>9</th>\n      <td>Mexico</td>\n      <td>1964.38</td>\n    </tr>\n    <tr>\n      <th>10</th>\n      <td>Japan</td>\n      <td>377.97</td>\n    </tr>\n    <tr>\n      <th>11</th>\n      <td>Germany</td>\n      <td>357.11</td>\n    </tr>\n    <tr>\n      <th>12</th>\n      <td>France</td>\n      <td>640.68</td>\n    </tr>\n    <tr>\n      <th>13</th>\n      <td>UK</td>\n      <td>242.50</td>\n    </tr>\n    <tr>\n      <th>14</th>\n      <td>Italy</td>\n      <td>301.34</td>\n    </tr>\n    <tr>\n      <th>15</th>\n      <td>Argentina</td>\n      <td>2780.40</td>\n    </tr>\n    <tr>\n      <th>16</th>\n      <td>Algeria</td>\n      <td>2381.74</td>\n    </tr>\n    <tr>\n      <th>17</th>\n      <td>Canada</td>\n      <td>9984.67</td>\n    </tr>\n    <tr>\n      <th>18</th>\n      <td>Australia</td>\n      <td>7692.02</td>\n    </tr>\n    <tr>\n      <th>19</th>\n      <td>Kazakhstan</td>\n      <td>2724.90</td>\n    </tr>\n  </tbody>\n</table>\n</div>"
     },
     "metadata": {},
     "output_type": "execute_result",
     "execution_count": 23
    }
   ],
   "source": [
    "df=pd.read_csv('.\\\\data_set\\\\country.csv',usecols=['COUNTRY','AREA'])\n",
    "df"
   ],
   "metadata": {
    "collapsed": false,
    "pycharm": {
     "name": "#%%\n",
     "is_executing": false
    }
   }
  },
  {
   "cell_type": "code",
   "execution_count": 32,
   "outputs": [
    {
     "data": {
      "text/plain": "Index      80\nCOUNTRY    80\nPOP        80\nAREA       80\nGDP        80\nCONT       80\nIND_DAY    80\ndtype: int64"
     },
     "metadata": {},
     "output_type": "execute_result",
     "execution_count": 32
    }
   ],
   "source": [
    "df=pd.read_csv('.\\\\data_set\\\\country.csv', index_col=0, skiprows=range(1,50,2))\n",
    "df\n",
    "df.dtypes\n",
    "df.memory_usage()"
   ],
   "metadata": {
    "collapsed": false,
    "pycharm": {
     "name": "#%%\n",
     "is_executing": false
    }
   }
  },
  {
   "cell_type": "code",
   "execution_count": 36,
   "outputs": [
    {
     "name": "stdout",
     "text": [
      "        COUNTRY      POP     AREA       GDP       CONT     IND_DAY\n",
      "CHN       China  1398.72  9596.96  12234.78       Asia   1949/10/1\n",
      "IND       India  1351.16  3287.26   2575.67       Asia   1947/8/15\n",
      "USA          US   329.74  9833.52  19485.39  N.America  1776-07-04\n",
      "IDN   Indonesia   268.07  1910.93   1015.54       Asia   1945/8/17\n",
      "BRA      Brazil   210.32  8515.77   2055.51  S.America  1822-09-07\n",
      "PAK    Pakistan   205.71   881.91    302.14       Asia   1947/8/14\n",
      "NGA     Nigeria   200.96   923.77    375.77     Africa   1960/10/1\n",
      "BGD  Bangladesh   167.09   147.57    245.63       Asia   1971/3/26\n",
      "\n",
      "memory: 448 bytes\n",
      "\n",
      "\n",
      "       COUNTRY     POP      AREA      GDP       CONT     IND_DAY\n",
      "RUS     Russia  146.79  17098.25  1530.75        NaN   1992/6/12\n",
      "MEX     Mexico  126.58   1964.38  1158.23  N.America  1810-09-16\n",
      "JPN      Japan  126.22    377.97  4872.42       Asia         NaN\n",
      "DEU    Germany   83.02    357.11  3693.20     Europe         NaN\n",
      "FRA     France   67.02    640.68  2582.49     Europe  1789-07-14\n",
      "GBR         UK   66.44    242.50  2631.23     Europe         NaN\n",
      "ITA      Italy   60.36    301.34  1943.84     Europe         NaN\n",
      "ARG  Argentina   44.94   2780.40   637.49  S.America  1816-07-09\n",
      "\n",
      "memory: 448 bytes\n",
      "\n",
      "\n",
      "        COUNTRY    POP     AREA      GDP       CONT     IND_DAY\n",
      "DZA     Algeria  43.38  2381.74   167.56     Africa    1962/7/5\n",
      "CAN      Canada  37.59  9984.67  1647.12  N.America  1867-07-01\n",
      "AUS   Australia  25.47  7692.02  1408.68    Oceania         NaN\n",
      "KAZ  Kazakhstan  18.53  2724.90   159.41       Asia  1991/12/16\n",
      "\n",
      "memory: 224 bytes\n",
      "\n",
      "\n"
     ],
     "output_type": "stream"
    }
   ],
   "source": [
    "for df_chunk in pd.read_csv('.\\\\data_set\\\\country.csv',index_col=0,chunksize=8):\n",
    "    print(df_chunk,end='\\n\\n')\n",
    "    print('memory:',df_chunk.memory_usage().sum(),'bytes',end='\\n\\n\\n')\n"
   ],
   "metadata": {
    "collapsed": false,
    "pycharm": {
     "name": "#%%\n",
     "is_executing": false
    }
   }
  }
 ],
 "metadata": {
  "kernelspec": {
   "display_name": "Python 3",
   "language": "python",
   "name": "python3"
  },
  "language_info": {
   "codemirror_mode": {
    "name": "ipython",
    "version": 2
   },
   "file_extension": ".py",
   "mimetype": "text/x-python",
   "name": "python",
   "nbconvert_exporter": "python",
   "pygments_lexer": "ipython2",
   "version": "2.7.6"
  },
  "pycharm": {
   "stem_cell": {
    "cell_type": "raw",
    "source": [],
    "metadata": {
     "collapsed": false
    }
   }
  }
 },
 "nbformat": 4,
 "nbformat_minor": 0
}