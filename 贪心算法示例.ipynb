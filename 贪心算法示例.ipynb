{
 "cells": [
  {
   "cell_type": "code",
   "execution_count": 1,
   "metadata": {
    "collapsed": true,
    "pycharm": {
     "is_executing": false
    }
   },
   "outputs": [],
   "source": [
    "# coding:utf-8\n",
    "good_list = {'notebooks': (800, 10000),\n",
    "             'voicebox': (600, 6000),\n",
    "             'ipad': (300, 7000),\n",
    "             'mobile': (200, 1500),\n",
    "             'pencil': (100, 2000)}\n",
    "allow_weight = 1000"
   ]
  },
  {
   "cell_type": "code",
   "execution_count": 2,
   "outputs": [
    {
     "name": "stdout",
     "text": [
      "价格最大化选择 ['notebooks', 'pencil'] 900\n"
     ],
     "output_type": "stream"
    }
   ],
   "source": [
    "# 按价格最大化选择\n",
    "take_goods = []\n",
    "take_weight = 0\n",
    "while take_weight < allow_weight:\n",
    "    max_price = 0\n",
    "    max_price_good = None\n",
    "    for good_name, good_nature in good_list.items():\n",
    "        if good_name in take_goods:\n",
    "            continue\n",
    "        if max_price < good_nature[1]:\n",
    "            if good_nature[0] <= allow_weight - take_weight:\n",
    "                max_price = good_nature[1]\n",
    "                max_price_good = good_name\n",
    "    if max_price_good:\n",
    "        take_goods.append(max_price_good)\n",
    "        take_weight += good_list[max_price_good][0]\n",
    "    else:\n",
    "        break\n",
    "\n",
    "print('价格最大化选择', take_goods, take_weight)"
   ],
   "metadata": {
    "collapsed": false,
    "pycharm": {
     "name": "#%%\n",
     "is_executing": false
    }
   }
  },
  {
   "cell_type": "code",
   "execution_count": 4,
   "outputs": [
    {
     "name": "stdout",
     "text": [
      "按重量最小选择 ['pencil', 'mobile', 'ipad'] 600\n"
     ],
     "output_type": "stream"
    }
   ],
   "source": [
    "# 按重量最小来选择\n",
    "take_goods = []\n",
    "take_weight = 0\n",
    "while take_weight < allow_weight:\n",
    "    min_weight=0\n",
    "    min_weight_good=None\n",
    "    for good_name,good_nature in good_list.items():\n",
    "        if good_name in take_goods:\n",
    "            continue\n",
    "        if min_weight==0 or good_nature[0]<min_weight:\n",
    "            if good_nature[0]<=allow_weight-take_weight:\n",
    "                min_weight=good_nature[0]\n",
    "                min_weight_good=good_name\n",
    "    if min_weight_good:\n",
    "        take_weight+=good_list[min_weight_good][0]\n",
    "        take_goods.append(min_weight_good)\n",
    "    else:\n",
    "        break\n",
    "\n",
    "print('按重量最小选择',take_goods,take_weight)"
   ],
   "metadata": {
    "collapsed": false,
    "pycharm": {
     "name": "#%%\n",
     "is_executing": false
    }
   }
  },
  {
   "cell_type": "code",
   "execution_count": 5,
   "outputs": [
    {
     "name": "stdout",
     "text": [
      "按价格重量比较高选择 ['ipad', 'pencil', 'voicebox'] 1000\n"
     ],
     "output_type": "stream"
    }
   ],
   "source": [
    "# 按价格重量比较高选择\n",
    "take_goods = []\n",
    "take_weight = 0\n",
    "while take_weight < allow_weight:\n",
    "    max_proportion=0\n",
    "    max_proportion_good=None\n",
    "    for good_name,good_nature in good_list.items():\n",
    "        if good_name in take_goods:\n",
    "            continue\n",
    "        if good_nature[1]/good_nature[0] > max_proportion:\n",
    "            if good_nature[0]<=allow_weight-take_weight:\n",
    "                max_proportion=good_nature[1]/good_nature[0]\n",
    "                max_proportion_good=good_name\n",
    "    if max_proportion_good:\n",
    "        take_weight+=good_list[max_proportion_good][0]\n",
    "        take_goods.append(max_proportion_good)\n",
    "    else:\n",
    "        break\n",
    "        \n",
    "print('按价格重量比较高选择',take_goods,take_weight)"
   ],
   "metadata": {
    "collapsed": false,
    "pycharm": {
     "name": "#%%\n",
     "is_executing": false
    }
   }
  }
 ],
 "metadata": {
  "kernelspec": {
   "display_name": "Python 3",
   "language": "python",
   "name": "python3"
  },
  "language_info": {
   "codemirror_mode": {
    "name": "ipython",
    "version": 2
   },
   "file_extension": ".py",
   "mimetype": "text/x-python",
   "name": "python",
   "nbconvert_exporter": "python",
   "pygments_lexer": "ipython2",
   "version": "2.7.6"
  },
  "pycharm": {
   "stem_cell": {
    "cell_type": "raw",
    "source": [],
    "metadata": {
     "collapsed": false
    }
   }
  }
 },
 "nbformat": 4,
 "nbformat_minor": 0
}